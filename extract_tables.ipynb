{
 "cells": [
  {
   "cell_type": "code",
   "execution_count": 2,
   "metadata": {},
   "outputs": [
    {
     "name": "stdout",
     "output_type": "stream",
     "text": [
      "4\n",
      "Tables extracted and saved to Excel file.\n"
     ]
    }
   ],
   "source": [
    "import pandas as pd\n",
    "from docx import Document\n",
    "\n",
    "\n",
    "def docx_to_excel(docx_path, excel_path):\n",
    "    # Load the .docx file\n",
    "    doc = Document(docx_path)\n",
    "    tables = doc.tables\n",
    "    print(len(tables))\n",
    "    \n",
    "    # Create a Pandas Excel writer using openpyxl as the engine\n",
    "    with pd.ExcelWriter(excel_path, engine='openpyxl') as writer:\n",
    "        # Iterate over tables in the document\n",
    "        for i, table in enumerate(tables):\n",
    "            # Initialize a list to hold the data of each table\n",
    "            data = []\n",
    "            # Iterate over each row in the table\n",
    "            for row in table.rows:\n",
    "                row_data = [cell.text for cell in row.cells]\n",
    "                data.append(row_data)\n",
    "            # Convert the table data into a pandas DataFrame\n",
    "            df = pd.DataFrame(data)\n",
    "            df = pd.DataFrame(data[1:], columns=data[0])  # Use the first row as column names\n",
    "            # Write the DataFrame to a sheet in the Excel file\n",
    "            # Each table goes into a different sheet\n",
    "            sheet_name = f'Table {i+1}'\n",
    "            df.to_excel(writer, sheet_name=sheet_name, index=False)\n",
    "            \n",
    "# Specify the path to your .docx file and the desired Excel file path\n",
    "docx_path = 'report/report.docx'\n",
    "excel_path = 'result/table_report.xlsx'\n",
    "\n",
    "# Call the function with the paths\n",
    "docx_to_excel(docx_path, excel_path)\n",
    "\n",
    "print(\"Tables extracted and saved to Excel file.\")\n"
   ]
  },
  {
   "cell_type": "code",
   "execution_count": null,
   "metadata": {},
   "outputs": [],
   "source": []
  }
 ],
 "metadata": {
  "kernelspec": {
   "display_name": "base",
   "language": "python",
   "name": "python3"
  },
  "language_info": {
   "codemirror_mode": {
    "name": "ipython",
    "version": 3
   },
   "file_extension": ".py",
   "mimetype": "text/x-python",
   "name": "python",
   "nbconvert_exporter": "python",
   "pygments_lexer": "ipython3",
   "version": "3.9.10"
  }
 },
 "nbformat": 4,
 "nbformat_minor": 2
}
